{
 "cells": [
  {
   "cell_type": "markdown",
   "id": "6f501497",
   "metadata": {},
   "source": [
    "# Data extraction"
   ]
  },
  {
   "cell_type": "code",
   "execution_count": 1,
   "id": "efd46b28",
   "metadata": {},
   "outputs": [],
   "source": [
    "import fitz\n",
    "\n",
    "def pdf_extract(pdf_path):\n",
    "    pdf_document = fitz.open(pdf_path)\n",
    "    text = \"\"\n",
    "    for page_num in range(pdf_document.page_count):\n",
    "        page = pdf_document.load_page(page_num)\n",
    "        text += page.get_text()\n",
    "    \n",
    "    return text"
   ]
  },
  {
   "cell_type": "code",
   "execution_count": 2,
   "id": "4930a3cc",
   "metadata": {},
   "outputs": [
    {
     "name": "stdout",
     "output_type": "stream",
     "text": [
      "MuPDF error: syntax error: unknown cid font type\n",
      "\n",
      "MuPDF error: syntax error: unknown cid font type\n",
      "\n",
      "MuPDF error: syntax error: could not parse color space (240438 0 R)\n",
      "\n"
     ]
    }
   ],
   "source": [
    "#Read all the PDF files\n",
    "aus = pdf_extract('australia/australia.pdf')\n",
    "bela = pdf_extract('belarus/belarus_9.pdf')\n",
    "china = pdf_extract('china/China_7.pdf') + \" \" + pdf_extract('china/china_8.pdf') + \" \" + pdf_extract('china/china_9.pdf')\n",
    "eth = pdf_extract('ethiopia/eth_7.pdf') + \" \" + pdf_extract('ethiopia/eth_8.pdf') + \" \" + pdf_extract('ethiopia/eth_9.pdf')\n",
    "ger = pdf_extract('germany/germany_7.pdf') + \" \" + pdf_extract('germany/germany_81.pdf') + \" \" + pdf_extract('germany/germany_82.pdf')+ \" \"+ pdf_extract('germany/germany_83.pdf')\n",
    "india = pdf_extract('india/India_7.pdf') +\" \"+ pdf_extract('india/India_8.pdf')+\" \"+ pdf_extract('india/India_9.pdf')\n",
    "iran = pdf_extract('iran/iran_7.pdf')+\" \"+ pdf_extract('iran/iran_8.pdf')+\" \"+pdf_extract('iran/iran_9.pdf')\n",
    "japn = pdf_extract('japan/japan_7.pdf')+\" \"+pdf_extract('japan/japan_8.pdf')+\" \"+pdf_extract('japan/japan_9.pdf')\n",
    "malay = pdf_extract('malay/malay_7.pdf')\n",
    "with open('mexico/Mexico_7.txt','r', encoding = 'utf-8', errors = 'ignore') as file:\n",
    "    mexico_7 = file.read()\n",
    "with open('mexico/Mexico_8.txt','r', encoding = 'utf-8', errors = 'ignore') as file:\n",
    "    mexico_8 = file.read()\n",
    "mex = mexico_7 +\" \"+ mexico_8\n",
    "phili = pdf_extract('phillipeans/Phili_7.pdf') +\" \"+pdf_extract('phillipeans/phili_8.pdf')+\" \"+pdf_extract('phillipeans/Phili_9.pdf')\n",
    "saudi = pdf_extract('saudi/Saudi_7.pdf')+\" \"+ pdf_extract('saudi/Saudi_8.pdf')+\" \"+ pdf_extract('saudi/Saudi_9.pdf')\n",
    "sc = pdf_extract('southernCone/sc_co_7.pdf')+\" \"+pdf_extract('southernCone/sc_ft_8.pdf')+\" \"+pdf_extract('southernCone/sc_ft_9.pdf')+\" \"+pdf_extract('southernCone/sc_nh_8.pdf')+\" \"+pdf_extract('southernCone/sc_nh_9.pdf')+\" \"+pdf_extract('southernCone/sc_no_7.pdf')+\" \"+pdf_extract('southernCone/sc_no_8.pdf')+\" \"+pdf_extract('southernCone/sc_no_9.pdf')+\" \"+pdf_extract('southernCone/sc_ps_7.pdf')+\" \"+pdf_extract('southernCone/sc_ss_7.pdf')\n",
    "spain = pdf_extract('spain/spain_7.pdf')+\" \"+pdf_extract('spain/spain_71.pdf')+\" \"+pdf_extract('spain/spain_72.pdf')+\" \"+pdf_extract('spain/spain_8.pdf')+\" \"+pdf_extract('spain/spain_9.pdf')\n",
    "sa = pdf_extract('southAfri/sa_7.pdf')+\" \"+pdf_extract('southAfri/sa_9.pdf')\n",
    "ssu = pdf_extract('Ssudan/ssudan_7.pdf')+\" \"+pdf_extract('Ssudan/ssudan_8.pdf')+\" \"+pdf_extract('Ssudan/ssudan_9.pdf')\n",
    "thai = pdf_extract('thailand/thai_7.pdf')\n",
    "tun = pdf_extract('Tunisia/Tun_7.pdf')+\" \"+pdf_extract('Tunisia/Tun_8.pdf')+\" \"+pdf_extract('Tunisia/Tun_9.pdf')\n",
    "turk = pdf_extract('turkey/Turkey_9.pdf')\n",
    "uk = pdf_extract('UK/UK_7.pdf')+\" \"+pdf_extract('UK/UK_8.pdf')+\" \"+pdf_extract('UK/UK_9.pdf')\n",
    "ukr = pdf_extract('Ukraine/ukraine_7.pdf')+\" \"+pdf_extract('Ukraine/ukraine_8.pdf')+\" \"+pdf_extract('Ukraine/ukraine_9.pdf')\n",
    "uzi = pdf_extract('Uzbekistan/Uzi_7.pdf')+\" \"+pdf_extract('Uzbekistan/Uzi_9.pdf')\n",
    "with open('vietnam/Viet_7.txt','r')as file:\n",
    "    viet_7 = file.read()\n",
    "with open('vietnam/Viet_8.txt', 'r', encoding='utf-8', errors='ignore') as file:\n",
    "    viet_8 = file.read()\n",
    "viet = viet_7 +\" \"+ viet_8"
   ]
  },
  {
   "cell_type": "code",
   "execution_count": 3,
   "id": "1599d97b",
   "metadata": {},
   "outputs": [],
   "source": [
    "#Put them into a list\n",
    "textbooks = [aus, bela, china, eth, ger, india, iran, japn, malay, mex, phili, saudi, sc, spain, sa, ssu, thai, tun, turk, uk, ukr, uzi, viet]"
   ]
  },
  {
   "cell_type": "code",
   "execution_count": 4,
   "id": "112708d7-91b8-4b3e-8bcd-d26728194bfb",
   "metadata": {},
   "outputs": [],
   "source": [
    "#Categorize them according to their cultural sphere\n",
    "sino = [china, viet, japn]\n",
    "indo = [india, thai, malay]\n",
    "islam = [saudi, iran, tun, uzi]\n",
    "east = [turk, bela, ukr]\n",
    "afri = [ssu, eth, sa]\n",
    "west = [ger, spain, phili,uk, aus]\n",
    "latin = [mex, sc]\n",
    "sphere = [sino, indo, islam,east, afri, west, latin]"
   ]
  },
  {
   "cell_type": "markdown",
   "id": "940655ab",
   "metadata": {},
   "source": [
    "# Data Cleaning"
   ]
  },
  {
   "cell_type": "code",
   "execution_count": 5,
   "id": "b0a070bc",
   "metadata": {},
   "outputs": [],
   "source": [
    "import re\n",
    "from langdetect import detect\n",
    "from langdetect import LangDetectException\n",
    "from nltk.corpus import stopwords\n",
    "from nltk.tokenize import word_tokenize"
   ]
  },
  {
   "cell_type": "code",
   "execution_count": 6,
   "id": "515fddd2",
   "metadata": {},
   "outputs": [],
   "source": [
    "def clean_text(post):\n",
    "    if detect(post) != 'en':\n",
    "        return ''\n",
    "    # Make posts lowercase\n",
    "    post = post.lower()\n",
    "\n",
    "    # Remove punctuation\n",
    "    post = re.sub(r'[^a-zA-Z\\s]', ' ', post)\n",
    "    \n",
    "    # Remove words with repeated letters\n",
    "    #post = re.sub(r'([a-zA-Z])\\1+', r'\\1', post)\n",
    "    \n",
    "    # Remove stopwords\n",
    "    stop_words = set(stopwords.words('english'))\n",
    "    word_tokens = word_tokenize(post)\n",
    "    filtered_text = [word for word in word_tokens if word not in stop_words]\n",
    "    \n",
    "    return ' '.join(filtered_text)"
   ]
  },
  {
   "cell_type": "code",
   "execution_count": 7,
   "id": "1b9c4c0d",
   "metadata": {},
   "outputs": [],
   "source": [
    "cleanTextbooks = []\n",
    "for i in textbooks:\n",
    "    cleanTextbooks.append(clean_text(i))\n",
    "cleanSphere = []\n",
    "for i in sphere:\n",
    "    for country in i:\n",
    "        cleanSphere.append(clean_text(country))"
   ]
  },
  {
   "cell_type": "code",
   "execution_count": 8,
   "id": "dea0c618",
   "metadata": {},
   "outputs": [],
   "source": [
    "#These have spaces, we use these to select the male and female words\n",
    "menWords = [\" man \", \" boy \", \" male \", \" brother \", \" father \", \" son \", \" husband \", \" king \", \" prince \", \" uncle \", \" nephew \", \" he \", \" him \", \" his \", \" gentleman \", \" sir \", \" mr. \", \" hero \", \" lord \", \" patriarch \", \" men \"]\n",
    "womenWords = [\" woman \", \" girl \", \" female \", \" sister \", \" mother \", \" daughter \", \" wife \", \" queen \", \" princess \", \" aunt \", \" niece \", \" she \", \" her \", \" hers \", \" lady \", \" ma'am \",\" madam \", \" mrs. \", \" ms. \", \" miss \", \" heroine \", \" dame \", \" matriarch \", \" women \"]\n",
    "#These have no spaces, so these can be used to throw away words during TFIDF\n",
    "menWordsNoSpace = [\"man\", \"boy\", \"male\", \"brother\", \"father\", \"son\", \"husband\", \"king\", \"prince\", \"uncle\", \"nephew\", \"he\", \"him\", \"his\", \"gentleman\", \"sir\", \"mr\", \"hero\", \"lord\", \"patriarch\", \"men\"]\n",
    "womenWordsNoSpace = [\"woman\", \"girl\", \"female\", \"sister\", \"mother\", \"daughter\", \"wife\", \"queen\", \"princess\", \"aunt\", \"niece\", \"she\", \"her\", \"hers\", \"lady\", \"ma'am\",\"madam\", \"mrs\", \"heroine\", \"dame\", \"matriarch\", \"women\"]"
   ]
  },
  {
   "cell_type": "code",
   "execution_count": 9,
   "id": "45c6d70d",
   "metadata": {},
   "outputs": [],
   "source": [
    "menPara = [[] for _ in range(23)]\n",
    "womenPara = [[] for _ in range(23)]\n",
    "for i in range(0, 23):\n",
    "    text = cleanTextbooks[i]\n",
    "    paragraphs = [text[j:j+100] for j in range(0, len(text), 100)]\n",
    "    for paragraph in paragraphs:\n",
    "        for j in menWords:\n",
    "            if j in paragraph:\n",
    "                menPara[i].append(paragraph)\n",
    "        for j in womenWords:\n",
    "            if j in paragraph:\n",
    "                womenPara[i].append(paragraph)"
   ]
  },
  {
   "cell_type": "markdown",
   "id": "8f593530",
   "metadata": {},
   "source": [
    "# Occurence"
   ]
  },
  {
   "cell_type": "code",
   "execution_count": 10,
   "id": "284e1dbd",
   "metadata": {},
   "outputs": [
    {
     "name": "stdout",
     "output_type": "stream",
     "text": [
      "4730\n",
      "3718\n"
     ]
    }
   ],
   "source": [
    "men_count = sum(len(sublist) for sublist in menPara)\n",
    "print(men_count)\n",
    "women_count = sum(len(sublist) for sublist in womenPara)\n",
    "print(women_count)"
   ]
  },
  {
   "cell_type": "markdown",
   "id": "29efdc49",
   "metadata": {},
   "source": [
    "# Firstness"
   ]
  },
  {
   "cell_type": "code",
   "execution_count": 11,
   "id": "1ebd222b-c557-43db-998b-98c541d26640",
   "metadata": {
    "scrolled": true
   },
   "outputs": [
    {
     "name": "stdout",
     "output_type": "stream",
     "text": [
      "234 [('wife', 'mr'), ('wife', 'mr'), ('wife', 'mr'), ('female', 'male'), ('girl', 'father'), ('mother', 'boy'), ('mother', 'son'), ('sister', 'uncle'), ('women', 'men'), ('girl', 'father'), ('girl', 'father'), ('mother', 'father'), ('mother', 'father'), ('wife', 'husband'), ('woman', 'husband'), ('women', 'men'), ('daughter', 'son'), ('woman', 'man'), ('mother', 'father'), ('mother', 'brother'), ('women', 'men'), ('niece', 'nephew'), ('niece', 'nephew'), ('woman', 'men'), ('girl', 'man'), ('woman', 'man'), ('woman', 'boy'), ('girl', 'man'), ('mother', 'mr'), ('wife', 'brother'), ('sister', 'son'), ('mother', 'son'), ('mother', 'son'), ('mother', 'son'), ('mother', 'son'), ('mother', 'son'), ('mother', 'son'), ('sister', 'brother'), ('daughter', 'father'), ('daughter', 'father'), ('princess', 'king'), ('princess', 'king'), ('mother', 'father'), ('girl', 'mr'), ('wife', 'boy'), ('mother', 'brother'), ('mother', 'brother'), ('sister', 'father'), ('sister', 'father'), ('wife', 'prince'), ('wife', 'prince'), ('mother', 'son'), ('daughter', 'father'), ('mother', 'son'), ('daughter', 'father'), ('mother', 'brother'), ('mother', 'father'), ('mother', 'men'), ('mother', 'men'), ('mother', 'brother'), ('girl', 'boy'), ('sister', 'son'), ('daughter', 'brother'), ('daughter', 'son'), ('daughter', 'father'), ('sister', 'son'), ('daughter', 'brother'), ('daughter', 'son'), ('daughter', 'father'), ('sister', 'son'), ('daughter', 'brother'), ('daughter', 'son'), ('daughter', 'father'), ('lady', 'uncle'), ('lady', 'uncle'), ('mother', 'uncle'), ('mother', 'father'), ('sister', 'son'), ('girl', 'boy'), ('girl', 'boy'), ('woman', 'man'), ('women', 'men'), ('woman', 'man'), ('women', 'men'), ('mother', 'father'), ('sister', 'brother'), ('mother', 'father'), ('girl', 'boy'), ('daughter', 'father'), ('mother', 'son'), ('wife', 'husband'), ('mother', 'son'), ('wife', 'husband'), ('mother', 'father'), ('sister', 'son'), ('sister', 'son'), ('sister', 'son'), ('sister', 'uncle'), ('mother', 'father'), ('aunt', 'brother'), ('sister', 'uncle'), ('sister', 'uncle'), ('woman', 'man'), ('niece', 'brother'), ('daughter', 'king'), ('queen', 'son'), ('niece', 'brother'), ('daughter', 'king'), ('queen', 'son'), ('niece', 'brother'), ('daughter', 'king'), ('queen', 'son'), ('niece', 'brother'), ('daughter', 'king'), ('queen', 'son'), ('women', 'men'), ('mother', 'father'), ('mother', 'father'), ('wife', 'husband'), ('mother', 'father'), ('sister', 'father'), ('mother', 'father'), ('girl', 'boy'), ('mother', 'brother'), ('mother', 'brother'), ('sister', 'brother'), ('sister', 'brother'), ('girl', 'brother'), ('girl', 'brother'), ('girl', 'brother'), ('girl', 'brother'), ('girl', 'brother'), ('mother', 'father'), ('sister', 'brother'), ('sister', 'brother'), ('mother', 'father'), ('mother', 'father'), ('wife', 'husband'), ('mother', 'father'), ('wife', 'husband'), ('daughter', 'son'), ('sister', 'brother'), ('mother', 'father'), ('mother', 'brother'), ('sister', 'mr'), ('sister', 'mr'), ('girl', 'boy'), ('girl', 'boy'), ('girl', 'boy'), ('girl', 'boy'), ('sister', 'brother'), ('mother', 'father'), ('mother', 'father'), ('aunt', 'uncle'), ('mother', 'father'), ('mother', 'father'), ('woman', 'hero'), ('girl', 'boy'), ('girl', 'boy'), ('aunt', 'uncle'), ('mother', 'father'), ('mother', 'father'), ('mother', 'father'), ('girl', 'brother'), ('lady', 'brother'), ('women', 'men'), ('mother', 'father'), ('mother', 'brother'), ('wife', 'son'), ('daughter', 'brother'), ('wife', 'son'), ('daughter', 'brother'), ('wife', 'son'), ('daughter', 'brother'), ('wife', 'son'), ('daughter', 'brother'), ('woman', 'man'), ('girl', 'boy'), ('wife', 'husband'), ('sister', 'brother'), ('daughter', 'son'), ('woman', 'man'), ('girl', 'boy'), ('wife', 'husband'), ('sister', 'brother'), ('daughter', 'son'), ('woman', 'man'), ('girl', 'boy'), ('wife', 'husband'), ('sister', 'brother'), ('daughter', 'son'), ('woman', 'man'), ('girl', 'boy'), ('wife', 'husband'), ('sister', 'brother'), ('daughter', 'son'), ('woman', 'man'), ('girl', 'boy'), ('wife', 'husband'), ('sister', 'brother'), ('daughter', 'son'), ('woman', 'man'), ('girl', 'boy'), ('wife', 'husband'), ('sister', 'brother'), ('daughter', 'son'), ('girl', 'man'), ('wife', 'husband'), ('wife', 'husband'), ('women', 'men'), ('mother', 'father'), ('mother', 'father'), ('women', 'men'), ('mother', 'father'), ('mother', 'father'), ('sister', 'brother'), ('mother', 'father'), ('sister', 'husband'), ('sister', 'brother'), ('niece', 'nephew'), ('niece', 'nephew'), ('niece', 'brother'), ('niece', 'nephew'), ('mother', 'father'), ('queen', 'man'), ('queen', 'man'), ('daughter', 'mr'), ('daughter', 'mr'), ('girl', 'boy'), ('mother', 'father'), ('queen', 'prince'), ('wife', 'husband'), ('mother', 'father'), ('mother', 'father')]\n"
     ]
    }
   ],
   "source": [
    "femaleFirst = []\n",
    "for sublist in womenPara:  \n",
    "    for paragraph in sublist:  \n",
    "        if isinstance(paragraph, str):  \n",
    "            words = paragraph.split()  \n",
    "            for i in range(len(words) - 1): \n",
    "                if words[i].lower() in womenWordsNoSpace and words[i + 1].lower() in menWordsNoSpace:\n",
    "                    femaleFirst.append((words[i], words[i + 1]))\n",
    "print(len(femaleFirst),femaleFirst)"
   ]
  },
  {
   "cell_type": "code",
   "execution_count": 12,
   "id": "dc3ea122-6535-4e8c-9610-938e1aec37a7",
   "metadata": {},
   "outputs": [
    {
     "name": "stdout",
     "output_type": "stream",
     "text": [
      "358 [('male', 'female'), ('male', 'female'), ('male', 'female'), ('boy', 'girl'), ('men', 'women'), ('male', 'female'), ('male', 'female'), ('son', 'daughter'), ('son', 'daughter'), ('son', 'daughter'), ('son', 'daughter'), ('male', 'female'), ('male', 'female'), ('king', 'queen'), ('man', 'mother'), ('man', 'mother'), ('prince', 'princess'), ('uncle', 'aunt'), ('uncle', 'aunt'), ('boy', 'girl'), ('brother', 'sister'), ('brother', 'sister'), ('men', 'women'), ('husband', 'wife'), ('brother', 'sister'), ('man', 'wife'), ('man', 'wife'), ('men', 'women'), ('men', 'women'), ('man', 'wife'), ('uncle', 'aunt'), ('uncle', 'aunt'), ('son', 'daughter'), ('son', 'daughter'), ('men', 'women'), ('father', 'mother'), ('father', 'mother'), ('father', 'mother'), ('brother', 'sister'), ('boy', 'girl'), ('father', 'mother'), ('male', 'female'), ('father', 'mother'), ('father', 'mother'), ('father', 'mother'), ('brother', 'sister'), ('brother', 'sister'), ('boy', 'girl'), ('man', 'woman'), ('man', 'woman'), ('man', 'woman'), ('man', 'woman'), ('boy', 'girl'), ('boy', 'girl'), ('king', 'queen'), ('man', 'woman'), ('man', 'woman'), ('men', 'women'), ('husband', 'wife'), ('husband', 'wife'), ('men', 'women'), ('men', 'women'), ('men', 'women'), ('son', 'daughter'), ('men', 'women'), ('men', 'women'), ('king', 'queen'), ('nephew', 'sister'), ('nephew', 'sister'), ('son', 'daughter'), ('father', 'daughter'), ('man', 'mrs'), ('father', 'mrs'), ('father', 'mrs'), ('man', 'woman'), ('sir', 'mrs'), ('sir', 'mrs'), ('male', 'female'), ('lord', 'lady'), ('lord', 'lady'), ('lord', 'lady'), ('king', 'queen'), ('king', 'queen'), ('king', 'queen'), ('lord', 'lady'), ('lord', 'lady'), ('lord', 'lady'), ('lord', 'lady'), ('lord', 'lady'), ('lord', 'lady'), ('lord', 'lady'), ('lord', 'lady'), ('lord', 'lady'), ('father', 'mother'), ('men', 'women'), ('men', 'women'), ('man', 'woman'), ('father', 'daughter'), ('father', 'daughter'), ('men', 'women'), ('father', 'mother'), ('father', 'mother'), ('father', 'mother'), ('brother', 'sister'), ('father', 'mother'), ('brother', 'sister'), ('father', 'mother'), ('brother', 'sister'), ('brother', 'sister'), ('brother', 'sister'), ('brother', 'sister'), ('men', 'women'), ('men', 'women'), ('king', 'queen'), ('male', 'female'), ('father', 'mrs'), ('brother', 'wife'), ('brother', 'wife'), ('brother', 'wife'), ('brother', 'wife'), ('men', 'woman'), ('men', 'woman'), ('son', 'daughter'), ('son', 'daughter'), ('uncle', 'aunt'), ('brother', 'sister'), ('uncle', 'aunt'), ('brother', 'sister'), ('uncle', 'aunt'), ('brother', 'sister'), ('father', 'mother'), ('father', 'mother'), ('brother', 'sister'), ('brother', 'sister'), ('men', 'women'), ('brother', 'aunt'), ('men', 'women'), ('men', 'women'), ('men', 'women'), ('father', 'sister'), ('father', 'sister'), ('father', 'sister'), ('nephew', 'niece'), ('nephew', 'niece'), ('nephew', 'niece'), ('nephew', 'niece'), ('father', 'sister'), ('brother', 'daughter'), ('son', 'sister'), ('father', 'mother'), ('father', 'sister'), ('brother', 'daughter'), ('son', 'sister'), ('father', 'mother'), ('father', 'sister'), ('brother', 'daughter'), ('son', 'sister'), ('father', 'mother'), ('father', 'daughter'), ('father', 'daughter'), ('father', 'daughter'), ('father', 'daughter'), ('father', 'daughter'), ('brother', 'aunt'), ('son', 'sister'), ('husband', 'wife'), ('husband', 'wife'), ('husband', 'wife'), ('man', 'woman'), ('man', 'women'), ('man', 'women'), ('men', 'women'), ('boy', 'girl'), ('men', 'women'), ('man', 'woman'), ('brother', 'sister'), ('boy', 'girl'), ('mr', 'mrs'), ('son', 'wife'), ('boy', 'mother'), ('boy', 'mother'), ('brother', 'sister'), ('brother', 'daughter'), ('king', 'wife'), ('brother', 'daughter'), ('king', 'wife'), ('brother', 'daughter'), ('king', 'wife'), ('brother', 'daughter'), ('king', 'wife'), ('boy', 'girl'), ('boy', 'girl'), ('boy', 'girl'), ('sir', 'madam'), ('man', 'girl'), ('man', 'woman'), ('boy', 'girl'), ('male', 'female'), ('sir', 'madam'), ('men', 'women'), ('men', 'women'), ('brother', 'sister'), ('hero', 'heroine'), ('male', 'female'), ('man', 'woman'), ('brother', 'sister'), ('brother', 'sister'), ('brother', 'woman'), ('brother', 'woman'), ('sir', 'madam'), ('man', 'woman'), ('boy', 'sister'), ('boy', 'sister'), ('brother', 'sister'), ('brother', 'sister'), ('men', 'women'), ('men', 'women'), ('brother', 'sister'), ('father', 'mother'), ('brother', 'sister'), ('father', 'mother'), ('brother', 'sister'), ('men', 'women'), ('father', 'mother'), ('father', 'mother'), ('brother', 'girl'), ('brother', 'girl'), ('men', 'woman'), ('men', 'woman'), ('brother', 'sister'), ('son', 'daughter'), ('brother', 'daughter'), ('brother', 'sister'), ('boy', 'girl'), ('boy', 'girl'), ('boy', 'girl'), ('boy', 'girl'), ('brother', 'sister'), ('brother', 'daughter'), ('brother', 'daughter'), ('boy', 'sister'), ('boy', 'sister'), ('boy', 'sister'), ('brother', 'sister'), ('brother', 'sister'), ('brother', 'sister'), ('uncle', 'aunt'), ('uncle', 'aunt'), ('father', 'daughter'), ('father', 'daughter'), ('male', 'female'), ('man', 'woman'), ('man', 'woman'), ('nephew', 'niece'), ('brother', 'sister'), ('men', 'women'), ('brother', 'sister'), ('men', 'women'), ('uncle', 'aunt'), ('brother', 'sister'), ('husband', 'daughter'), ('man', 'woman'), ('brother', 'sister'), ('brother', 'wife'), ('brother', 'sister'), ('brother', 'wife'), ('brother', 'sister'), ('brother', 'wife'), ('man', 'woman'), ('son', 'daughter'), ('son', 'daughter'), ('man', 'girl'), ('man', 'girl'), ('boy', 'wife'), ('father', 'mother'), ('brother', 'daughter'), ('man', 'girl'), ('boy', 'wife'), ('father', 'mother'), ('brother', 'daughter'), ('man', 'girl'), ('boy', 'wife'), ('father', 'mother'), ('brother', 'daughter'), ('man', 'girl'), ('boy', 'wife'), ('father', 'mother'), ('brother', 'daughter'), ('man', 'girl'), ('boy', 'wife'), ('father', 'mother'), ('brother', 'daughter'), ('man', 'girl'), ('boy', 'wife'), ('father', 'mother'), ('brother', 'daughter'), ('sir', 'woman'), ('men', 'woman'), ('sir', 'madam'), ('sir', 'madam'), ('boy', 'girl'), ('man', 'woman'), ('man', 'woman'), ('boy', 'mother'), ('sir', 'madam'), ('sir', 'madam'), ('sir', 'madam'), ('father', 'girl'), ('man', 'woman'), ('men', 'women'), ('brother', 'sister'), ('brother', 'sister'), ('father', 'daughter'), ('father', 'daughter'), ('brother', 'sister'), ('husband', 'wife'), ('men', 'women'), ('man', 'woman'), ('man', 'woman'), ('man', 'woman'), ('men', 'women'), ('men', 'women'), ('men', 'women'), ('sir', 'madam'), ('men', 'women'), ('men', 'women'), ('men', 'women'), ('boy', 'girl'), ('boy', 'girl'), ('boy', 'girl'), ('father', 'mother'), ('father', 'mother'), ('brother', 'sister'), ('men', 'women'), ('men', 'women'), ('male', 'female'), ('father', 'mother'), ('brother', 'sister'), ('nephew', 'niece'), ('sir', 'madam'), ('sir', 'madam'), ('mr', 'mrs'), ('nephew', 'niece'), ('nephew', 'niece'), ('nephew', 'niece'), ('sir', 'madam'), ('father', 'mother'), ('man', 'wife'), ('man', 'woman'), ('men', 'girl'), ('men', 'women'), ('men', 'women'), ('men', 'women'), ('father', 'mother'), ('boy', 'girl'), ('uncle', 'aunt'), ('uncle', 'aunt'), ('uncle', 'wife')]\n"
     ]
    }
   ],
   "source": [
    "maleFirst = []\n",
    "for sublist in menPara:  \n",
    "    for paragraph in sublist:  \n",
    "        if isinstance(paragraph, str):  \n",
    "            words = paragraph.split()  \n",
    "            for i in range(len(words) - 1):  \n",
    "                if words[i].lower() in menWordsNoSpace and words[i + 1].lower() in womenWordsNoSpace:\n",
    "                    maleFirst.append((words[i], words[i + 1]))\n",
    "print(len(maleFirst),maleFirst)"
   ]
  },
  {
   "cell_type": "code",
   "execution_count": 13,
   "id": "4c3b12b6-5591-4207-8440-7875d7eb0e67",
   "metadata": {},
   "outputs": [],
   "source": [
    "sameLevel = {\n",
    "    \"siblings\": {\"brother\", \"sister\"},\n",
    "    \"parent_child\": {\"father\", \"mother\", \"son\", \"daughter\"},\n",
    "    \"spouses\": {\"husband\", \"wife\"},\n",
    "    \"royalty\": {\"king\", \"queen\", \"prince\", \"princess\"},\n",
    "    \"extended_family\": {\"uncle\", \"aunt\", \"nephew\", \"niece\"},\n",
    "    \"personal_pronouns\": {\"he\", \"she\", \"him\", \"her\", \"his\", \"hers\"},\n",
    "    \"titles\": {\"gentleman\", \"lady\", \"sir\", \"ma'am\", \"mr\", \"mrs\", \"madam\"},\n",
    "    \"heroic_roles\": {\"hero\", \"heroine\"},\n",
    "    \"social_roles\": {\"patriarch\", \"matriarch\"},\n",
    "    \"general_plural\": {\"men\", \"women\"},\n",
    "}\n",
    "flat = {word for group in sameLevel.values() for word in group}\n",
    "def isSame(pair):\n",
    "    return pair[0] in flat and pair[1] in flat\n",
    "femaleFirst = [pair for pair in femaleFirst if isSame(pair)]"
   ]
  },
  {
   "cell_type": "code",
   "execution_count": 14,
   "id": "bd76dc30-eccd-459b-b69f-0285e67a58d2",
   "metadata": {},
   "outputs": [
    {
     "name": "stdout",
     "output_type": "stream",
     "text": [
      "244\n",
      "183\n"
     ]
    }
   ],
   "source": [
    "maleFirst = [pair for pair in maleFirst if isSame(pair)]\n",
    "print(len(maleFirst))\n",
    "print(len(femaleFirst))"
   ]
  },
  {
   "cell_type": "markdown",
   "id": "2faf7a57-bd5c-490b-bfc3-ce7e5009855b",
   "metadata": {},
   "source": [
    "# Sentiment analysis"
   ]
  },
  {
   "cell_type": "code",
   "execution_count": 33,
   "id": "b7009719-1c45-4c15-a0d0-05d9d7075549",
   "metadata": {},
   "outputs": [
    {
     "name": "stdout",
     "output_type": "stream",
     "text": [
      "{'neg': 0.063, 'neu': 0.8, 'pos': 0.137, 'compound': 1.0} {'neg': 0.061, 'neu': 0.795, 'pos': 0.143, 'compound': 1.0}\n"
     ]
    }
   ],
   "source": [
    "fm = ', '.join(map(str, [item for sublist in menPara for item in sublist]))\n",
    "fw = ', '.join(map(str, [item for sublist in womenPara for item in sublist]))\n",
    "from vaderSentiment.vaderSentiment import SentimentIntensityAnalyzer\n",
    "analyzer = SentimentIntensityAnalyzer()\n",
    "fscores = analyzer.polarity_scores(fw)\n",
    "mscores = analyzer.polarity_scores(fm)\n",
    "print(fscores,mscores)"
   ]
  },
  {
   "cell_type": "markdown",
   "id": "e9a500d7",
   "metadata": {},
   "source": [
    "# TFIDF"
   ]
  },
  {
   "cell_type": "code",
   "execution_count": 16,
   "id": "47384da8-0ffe-45a5-9f70-e83a94657b2d",
   "metadata": {},
   "outputs": [],
   "source": [
    "from langdetect import detect\n",
    "from langdetect import LangDetectException\n",
    "import nltk\n",
    "import re\n",
    "from nltk.corpus import stopwords\n",
    "from nltk.tokenize import word_tokenize\n",
    "import matplotlib.pyplot as plt\n",
    "from sklearn.feature_extraction.text import TfidfVectorizer"
   ]
  },
  {
   "cell_type": "code",
   "execution_count": 17,
   "id": "252eb1e3-a115-4881-a8df-7fce84701619",
   "metadata": {},
   "outputs": [
    {
     "name": "stderr",
     "output_type": "stream",
     "text": [
      "[nltk_data] Downloading package stopwords to /home/tal012/nltk_data...\n",
      "[nltk_data]   Package stopwords is already up-to-date!\n",
      "[nltk_data] Downloading package punkt to /home/tal012/nltk_data...\n",
      "[nltk_data]   Package punkt is already up-to-date!\n",
      "[nltk_data] Downloading package vader_lexicon to\n",
      "[nltk_data]     /home/tal012/nltk_data...\n",
      "[nltk_data]   Package vader_lexicon is already up-to-date!\n",
      "[nltk_data] Downloading package punkt_tab to /home/tal012/nltk_data...\n",
      "[nltk_data]   Package punkt_tab is already up-to-date!\n",
      "[nltk_data] Downloading package averaged_perceptron_tagger to\n",
      "[nltk_data]     /home/tal012/nltk_data...\n",
      "[nltk_data]   Package averaged_perceptron_tagger is already up-to-\n",
      "[nltk_data]       date!\n"
     ]
    },
    {
     "data": {
      "text/plain": [
       "True"
      ]
     },
     "execution_count": 17,
     "metadata": {},
     "output_type": "execute_result"
    }
   ],
   "source": [
    "nltk.download('stopwords')\n",
    "nltk.download('punkt')\n",
    "nltk.download('vader_lexicon')\n",
    "nltk.download('punkt_tab')\n",
    "nltk.download('averaged_perceptron_tagger')"
   ]
  },
  {
   "cell_type": "code",
   "execution_count": 18,
   "id": "c3f5b8f8-e7c9-437e-b9b6-081c7d56b117",
   "metadata": {},
   "outputs": [],
   "source": [
    "#stemming the words\n",
    "from nltk.stem import PorterStemmer\n",
    "stemmer = PorterStemmer()\n",
    "def stem_nested_list(nested_list):\n",
    "    return [\n",
    "        [\n",
    "            ' '.join(stemmer.stem(word) for word in sentence.split())\n",
    "            for sentence in sublist\n",
    "        ]\n",
    "        for sublist in nested_list\n",
    "    ]\n",
    "menPara = stem_nested_list(menPara)\n",
    "womenPara = stem_nested_list(womenPara)\n",
    "fm = ', '.join(map(str, [item for sublist in menPara for item in sublist]))\n",
    "fw = ', '.join(map(str, [item for sublist in womenPara for item in sublist]))"
   ]
  },
  {
   "cell_type": "code",
   "execution_count": 19,
   "id": "79f6addd-ff39-45fb-a5ff-4b051f88ace7",
   "metadata": {},
   "outputs": [],
   "source": [
    "tobeTFIDF = [\" \".join(\" \".join(row) for row in menPara),\" \".join(\" \".join(row) for row in womenPara)]\n",
    "vectorizer = TfidfVectorizer()\n",
    "tfidf_matrix = vectorizer.fit_transform(tobeTFIDF)\n",
    "feature_names = vectorizer.get_feature_names_out()\n",
    "dense_tfidf = tfidf_matrix.toarray()"
   ]
  },
  {
   "cell_type": "code",
   "execution_count": 20,
   "id": "20daf4ce-969a-45ec-a728-5298994c28d2",
   "metadata": {},
   "outputs": [],
   "source": [
    "#tfidf of female words\n",
    "doc_index = 1\n",
    "doc_tfidf_scores = dense_tfidf[doc_index]\n",
    "word_score_pairs = list(zip(feature_names, doc_tfidf_scores))\n",
    "sorted_word_scores = sorted(word_score_pairs, key=lambda x: x[1], reverse=True)\n",
    "top_300_words_fs = sorted_word_scores[:300]\n",
    "top_300_words_f = [word for word, score in sorted_word_scores[:300]]"
   ]
  },
  {
   "cell_type": "code",
   "execution_count": 21,
   "id": "dd1c727e-e2f3-4ee7-97a2-31bc27ba56d3",
   "metadata": {},
   "outputs": [],
   "source": [
    "#tfidf of male words\n",
    "doc_index = 0  \n",
    "doc_tfidf_scores = dense_tfidf[doc_index]\n",
    "word_score_pairs_m = list(zip(feature_names, doc_tfidf_scores))\n",
    "sorted_word_scores_m = sorted(word_score_pairs_m, key=lambda x: x[1], reverse=True)\n",
    "top_300_words_ms = sorted_word_scores_m[:300]\n",
    "top_300_words_m = [word for word, score in sorted_word_scores_m[:300]]"
   ]
  },
  {
   "cell_type": "code",
   "execution_count": 22,
   "id": "e842dddf-c92b-4251-9728-6808b43ddf81",
   "metadata": {},
   "outputs": [],
   "source": [
    "#remove common words and gendered keywords\n",
    "common = list(set(top_300_words_f) & set(top_300_words_m))\n",
    "top_300_words_f = [word for word in top_300_words_f if word not in common]\n",
    "top_300_words_f = [word for word in top_300_words_f if word not in womenWordsNoSpace]\n",
    "female_300 = \" \".join(top_300_words_f)\n",
    "top_300_words_m = [word for word in top_300_words_m if word not in common]\n",
    "top_300_words_m = [word for word in top_300_words_m if word not in menWordsNoSpace]\n",
    "male_300 = \" \".join(top_300_words_m)"
   ]
  },
  {
   "cell_type": "code",
   "execution_count": 23,
   "id": "920d684c-9154-4a24-9910-0c1d32af2fc6",
   "metadata": {},
   "outputs": [
    {
     "name": "stdout",
     "output_type": "stream",
     "text": [
      "femal tv sport susan today verb beauti lesson parti ok earli usual emili often babi dad peter stevenson yesterday hope marriag photo st adj michael weekend bag pair tom dress niec enjoy lyn mum arriv bad french power problem care ed london nurs practic short someon train voic without busi danc done drink drive grammar near note sing sometim stand wash wonder birthday\n",
      "princ romeo juliet arthur kill dead tree god ben wise water face lawrenc order becom shall april pari cloth england film sound carri heard soon found land leon open laugh ten hermit sword draft dream gave lo around cri goe head white hour later street might polic task idea bed bediver mark match met six summer true modr game martin news noth\n"
     ]
    }
   ],
   "source": [
    "print(female_300)\n",
    "print(male_300)"
   ]
  },
  {
   "cell_type": "code",
   "execution_count": 24,
   "id": "f728e5ff-ee1f-447b-a7d2-a3fa8f2f2dad",
   "metadata": {},
   "outputs": [],
   "source": [
    "from collections import Counter\n",
    "import re\n",
    "mwords = male_300.split()\n",
    "filteredMwords = [word for word in mwords if word in fm]\n",
    "wordMcounts = Counter(filteredMwords)\n",
    "topMwords = wordMcounts.most_common(40)"
   ]
  },
  {
   "cell_type": "code",
   "execution_count": 25,
   "id": "eaa8eaf7-d6e0-4cf2-9be1-90c6cfd87dc2",
   "metadata": {},
   "outputs": [],
   "source": [
    "fwords = female_300.split()\n",
    "filteredFwords = [word for word in fwords if word in fw]\n",
    "wordFcounts = Counter(filteredFwords)\n",
    "topFwords = wordFcounts.most_common(40)"
   ]
  },
  {
   "cell_type": "code",
   "execution_count": 26,
   "id": "01d80c86-a232-482a-ad15-c235ebf2a18c",
   "metadata": {},
   "outputs": [
    {
     "name": "stdout",
     "output_type": "stream",
     "text": [
      "Top 40 Male Words: [('princ', 1), ('romeo', 1), ('juliet', 1), ('arthur', 1), ('kill', 1), ('dead', 1), ('tree', 1), ('god', 1), ('ben', 1), ('wise', 1), ('water', 1), ('face', 1), ('lawrenc', 1), ('order', 1), ('becom', 1), ('shall', 1), ('april', 1), ('pari', 1), ('cloth', 1), ('england', 1), ('film', 1), ('sound', 1), ('carri', 1), ('heard', 1), ('soon', 1), ('found', 1), ('land', 1), ('leon', 1), ('open', 1), ('laugh', 1), ('ten', 1), ('hermit', 1), ('sword', 1), ('draft', 1), ('dream', 1), ('gave', 1), ('lo', 1), ('around', 1), ('cri', 1), ('goe', 1)]\n",
      "Top 40 Female Words: [('femal', 1), ('tv', 1), ('sport', 1), ('susan', 1), ('today', 1), ('verb', 1), ('beauti', 1), ('lesson', 1), ('parti', 1), ('ok', 1), ('earli', 1), ('usual', 1), ('emili', 1), ('often', 1), ('babi', 1), ('dad', 1), ('peter', 1), ('stevenson', 1), ('yesterday', 1), ('hope', 1), ('marriag', 1), ('photo', 1), ('st', 1), ('adj', 1), ('michael', 1), ('weekend', 1), ('bag', 1), ('pair', 1), ('tom', 1), ('dress', 1), ('niec', 1), ('enjoy', 1), ('lyn', 1), ('mum', 1), ('arriv', 1), ('bad', 1), ('french', 1), ('power', 1), ('problem', 1), ('care', 1)]\n"
     ]
    }
   ],
   "source": [
    "from collections import Counter\n",
    "import re\n",
    "\n",
    "# Example word lists (assuming male_300 and female_300 are defined as strings)\n",
    "mwords = male_300.split()  # Male words\n",
    "fwords = female_300.split()  # Female words\n",
    "\n",
    "# Filtered words for male\n",
    "filteredMwords = [word for word in mwords if word in fm]\n",
    "wordMcounts = Counter(filteredMwords)\n",
    "topMwords = wordMcounts.most_common(40)\n",
    "print(\"Top 40 Male Words:\", topMwords)\n",
    "\n",
    "# Filtered words for female\n",
    "filteredFwords = [word for word in fwords if word in fw]\n",
    "wordFcounts = Counter(filteredFwords)\n",
    "topFwords = wordFcounts.most_common(40)\n",
    "print(\"Top 40 Female Words:\", topFwords)\n"
   ]
  },
  {
   "cell_type": "markdown",
   "id": "dcce1443-8327-46de-8d65-3fbacd0cb768",
   "metadata": {},
   "source": [
    "# random forest"
   ]
  },
  {
   "cell_type": "code",
   "execution_count": 37,
   "id": "2319da3d-66a4-4c3c-afff-b80bb091ccc5",
   "metadata": {},
   "outputs": [
    {
     "name": "stdout",
     "output_type": "stream",
     "text": [
      "Top words most related to Female:\n",
      "            Word  FemaleImportance\n",
      "1766        cass               1.0\n",
      "9332   portugues               1.0\n",
      "499         anya               1.0\n",
      "686       aspect               1.0\n",
      "11166     soccer               1.0\n",
      "35      aborigin               1.0\n",
      "1666      calmli               1.0\n",
      "4358       fridg               1.0\n",
      "13654     xavier               1.0\n",
      "11675     sungen               1.0\n"
     ]
    }
   ],
   "source": [
    "from sklearn.feature_extraction.text import TfidfVectorizer\n",
    "from sklearn.ensemble import RandomForestClassifier\n",
    "import numpy as np\n",
    "import pandas as pd\n",
    "male_segments = fm.split(\" \")  \n",
    "female_segments = fw.split(\" \")  \n",
    "texts = male_segments + female_segments  \n",
    "labels = [0] * len(male_segments) + [1] * len(female_segments)  \n",
    "vectorizer = TfidfVectorizer()  \n",
    "X = vectorizer.fit_transform(texts)  \n",
    "feature_names = vectorizer.get_feature_names_out()\n",
    "\n",
    "clf = RandomForestClassifier(random_state=42, n_estimators=100)\n",
    "clf.fit(X, labels)\n",
    "\n",
    "\n",
    "proba = clf.predict_proba(X)[:, 1]  # Probability of being female\n",
    "female_contributions = np.dot(X.T.toarray(), proba)\n",
    "female_importance = female_contributions / np.sum(X.toarray(), axis=0)\n",
    "female_importance_df = pd.DataFrame({\n",
    "    \"Word\": feature_names,\n",
    "    \"FemaleImportance\": female_importance\n",
    "}).sort_values(by=\"FemaleImportance\", ascending=False)\n",
    "\n",
    "print(\"Top words most related to Female:\")\n",
    "print(female_importance_df.head(10))\n"
   ]
  },
  {
   "cell_type": "code",
   "execution_count": 40,
   "id": "87e278c8-8159-45a4-87e2-671bed0bab3c",
   "metadata": {},
   "outputs": [
    {
     "name": "stdout",
     "output_type": "stream",
     "text": [
      "Top words most related to Male:\n",
      "           Word  MaleImportance\n",
      "4070      fierc             1.0\n",
      "5479     ibalon             1.0\n",
      "5132     hermit             1.0\n",
      "4803    grendel             1.0\n",
      "425    ancestor             1.0\n",
      "4620    gisborn             1.0\n",
      "4593       giao             1.0\n",
      "10659       sec             1.0\n",
      "4565     gestur             1.0\n",
      "10675      seed             1.0\n"
     ]
    }
   ],
   "source": [
    "from sklearn.feature_extraction.text import TfidfVectorizer\n",
    "from sklearn.ensemble import RandomForestClassifier\n",
    "import numpy as np\n",
    "import pandas as pd\n",
    "male_segments = fm.split(\" \")  \n",
    "female_segments = fw.split(\" \")  \n",
    "texts = male_segments + female_segments  \n",
    "labels = [0] * len(male_segments) + [1] * len(female_segments)  \n",
    "vectorizer = TfidfVectorizer()  \n",
    "X = vectorizer.fit_transform(texts)  \n",
    "feature_names = vectorizer.get_feature_names_out()\n",
    "\n",
    "clf = RandomForestClassifier(random_state=42, n_estimators=100)\n",
    "clf.fit(X, labels)\n",
    "\n",
    "proba = clf.predict_proba(X)[:, 0]  # Probability of being male (class 0)\n",
    "\n",
    "\n",
    "male_contributions = np.dot(X.T.toarray(), proba)\n",
    "male_importance = male_contributions / np.sum(X.toarray(), axis=0)\n",
    "male_importance_df = pd.DataFrame({\n",
    "    \"Word\": feature_names,\n",
    "    \"MaleImportance\": male_importance\n",
    "}).sort_values(by=\"MaleImportance\", ascending=False)\n",
    "\n",
    "print(\"Top words most related to Male:\")\n",
    "print(male_importance_df.head(10))\n"
   ]
  }
 ],
 "metadata": {
  "kernelspec": {
   "display_name": "Python 3 (ipykernel)",
   "language": "python",
   "name": "python3"
  },
  "language_info": {
   "codemirror_mode": {
    "name": "ipython",
    "version": 3
   },
   "file_extension": ".py",
   "mimetype": "text/x-python",
   "name": "python",
   "nbconvert_exporter": "python",
   "pygments_lexer": "ipython3",
   "version": "3.11.9"
  }
 },
 "nbformat": 4,
 "nbformat_minor": 5
}
