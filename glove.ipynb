{
 "cells": [
  {
   "cell_type": "code",
   "execution_count": 3,
   "id": "0d7f5044-7056-4b33-a576-cc93be3b6e63",
   "metadata": {},
   "outputs": [
    {
     "name": "stderr",
     "output_type": "stream",
     "text": [
      "/tmp/ipykernel_634/2441386422.py:8: DeprecationWarning: Call to deprecated `glove2word2vec` (KeyedVectors.load_word2vec_format(.., binary=False, no_header=True) loads GLoVE text vectors.).\n",
      "  glove2word2vec(glove_file, word2vec_output_file)\n"
     ]
    },
    {
     "name": "stdout",
     "output_type": "stream",
     "text": [
      "[('queen', 0.6336469054222107), ('prince', 0.6196622848510742), ('monarch', 0.5899620652198792), ('kingdom', 0.5791266560554504), ('throne', 0.5606487989425659), ('ii', 0.5562329292297363), ('iii', 0.5503199100494385), ('crown', 0.5224862694740295), ('reign', 0.5217353701591492), ('kings', 0.5066401958465576)]\n"
     ]
    }
   ],
   "source": [
    "from gensim.models import KeyedVectors\n",
    "\n",
    "glove_file = \"glove.6B.300d.txt\"\n",
    "word2vec_output_file = \"glove.6B.300d.word2vec\"\n",
    "\n",
    "from gensim.scripts.glove2word2vec import glove2word2vec\n",
    "glove2word2vec(glove_file, word2vec_output_file)\n",
    "model = KeyedVectors.load_word2vec_format(word2vec_output_file, binary=False)"
   ]
  },
  {
   "cell_type": "code",
   "execution_count": 25,
   "id": "eb13934c-798d-499b-952a-c7f2ccd2e619",
   "metadata": {},
   "outputs": [],
   "source": [
    "female = [\"female\", \"tv\", \"sport\", \"susan\", \"today\", \"verb\", \"beauty\", \"lesson\", \"party\", \"ok\", \"early\", \"usual\", \"emily\", \"often\", \"baby\", \"dad\", \"peter\", \"stevenson\", \"yesterday\", \"hope\", \"marriage\", \"photo\", \"st\", \"adj\", \"michael\", \"weekend\", \"bag\", \"pair\", \"tom\", \"dress\", \"niece\", \"enjoy\", \"lyn\", \"mum\", \"arrive\", \"bad\", \"french\", \"power\", \"problem\", \"care\", \"ed\", \"london\", \"practice\", \"short\", \"someone\", \"train\", \"voice\", \"without\", \"busy\", \"dance\", \"done\", \"drink\", \"drive\", \"grammar\", \"near\", \"note\", \"sing\", \"sometime\", \"stand\", \"wash\", \"wonder\"]\n",
    "male = [\"prince\", \"romeo\", \"juliet\", \"arthur\", \"kill\", \"dead\", \"tree\", \"god\", \"ben\", \"wise\", \"water\", \"face\", \"lawrence\", \"order\", \"become\", \"shall\", \"april\", \"paris\", \"cloth\", \"england\", \"film\", \"sound\", \"carry\", \"heard\", \"soon\", \"found\", \"land\", \"leon\", \"open\", \"laugh\", \"hermit\", \"sword\", \"draft\", \"dream\", \"gave\", \"lo\", \"around\", \"cri\", \"goes\", \"head\", \"white\", \"hour\", \"later\", \"street\", \"might\", \"police\", \"task\", \"idea\", \"bed\", \"bedivere\", \"mark\", \"match\", \"met\", \"six\", \"summer\", \"true\", \"modred\", \"game\", \"martin\", \"news\"]"
   ]
  },
  {
   "cell_type": "code",
   "execution_count": 10,
   "id": "2c275453-ea9a-4937-bf66-7043c1f9b195",
   "metadata": {},
   "outputs": [],
   "source": [
    "import numpy as np\n",
    "from scipy.spatial.distance import cosine\n",
    "\n",
    "def load_glove_model(glove_file):\n",
    "    embeddings = {}\n",
    "    with open(glove_file, \"r\", encoding=\"utf-8\") as f:\n",
    "        for line in f:\n",
    "            values = line.split()\n",
    "            word = values[0]\n",
    "            vector = np.array(values[1:], dtype=np.float32)\n",
    "            embeddings[word] = vector\n",
    "    return embeddings\n",
    "\n",
    "glove_vectors = load_glove_model(\"glove.6B.300d.txt\")\n",
    "\n",
    "def average_pairwise_similarity(words, embeddings):\n",
    "    valid_words = [w for w in words if w in embeddings]\n",
    "    vectors = [embeddings[w] for w in valid_words]\n",
    "    \n",
    "    if len(vectors) < 2:\n",
    "        return None  # Not enough valid words\n",
    "\n",
    "    similarities = []\n",
    "    for i in range(len(vectors)):\n",
    "        for j in range(i + 1, len(vectors)):\n",
    "            sim = 1 - cosine(vectors[i], vectors[j])\n",
    "            similarities.append(sim)\n",
    "\n",
    "    return np.mean(similarities)"
   ]
  },
  {
   "cell_type": "code",
   "execution_count": 11,
   "id": "650283c2-e80f-47fc-8116-16f48164b937",
   "metadata": {},
   "outputs": [
    {
     "name": "stdout",
     "output_type": "stream",
     "text": [
      "0.14951851686816736 0.15208059726675743\n"
     ]
    }
   ],
   "source": [
    "avgSimilarityFemale = average_pairwise_similarity(female, glove_vectors)\n",
    "avgSimilarityMale = average_pairwise_similarity(male, glove_vectors)\n",
    "print(avgSimilarityFemale,avgSimilarityMale)"
   ]
  },
  {
   "cell_type": "code",
   "execution_count": 14,
   "id": "3a30cb6a-f038-43e6-a173-924a2d2658e6",
   "metadata": {},
   "outputs": [],
   "source": [
    "def compute_average_distance(words, target_word, embeddings):\n",
    "    if target_word not in embeddings:\n",
    "        print(f\"Target word '{target_word}' not found in embeddings.\")\n",
    "        return None\n",
    "\n",
    "    target_vector = embeddings[target_word]\n",
    "    total_distance = 0\n",
    "    valid_word_count = 0\n",
    "\n",
    "    for word in words:\n",
    "        if word in embeddings:\n",
    "            sim = 1 - cosine(target_vector, embeddings[word])\n",
    "            distance = 1 - sim  # Cosine distance = 1 - similarity\n",
    "            total_distance += distance\n",
    "            valid_word_count += 1\n",
    "        else:\n",
    "            print(f\"Word '{word}' not found in embeddings.\")\n",
    "\n",
    "    if valid_word_count == 0:\n",
    "        print(\"No valid words found in embeddings.\")\n",
    "        return None\n",
    "\n",
    "    average_distance = total_distance / valid_word_count\n",
    "    return average_distance"
   ]
  },
  {
   "cell_type": "code",
   "execution_count": 27,
   "id": "80b28a2c-ee68-4091-9968-e82965e0c993",
   "metadata": {},
   "outputs": [
    {
     "name": "stdout",
     "output_type": "stream",
     "text": [
      "0.8277830121380514\n",
      "0.791310230345657\n"
     ]
    }
   ],
   "source": [
    "print(compute_average_distance(female, \"death\" , glove_vectors))\n",
    "print(compute_average_distance(male, \"death\" , glove_vectors))"
   ]
  },
  {
   "cell_type": "code",
   "execution_count": 33,
   "id": "0e6560cf-aa55-4795-a5bc-a6eeabe48bb3",
   "metadata": {},
   "outputs": [
    {
     "name": "stdout",
     "output_type": "stream",
     "text": [
      "0.8379290468008587\n",
      "0.8524189559185354\n"
     ]
    }
   ],
   "source": [
    "print(compute_average_distance(female, \"food\" , glove_vectors))\n",
    "print(compute_average_distance(male, \"food\" , glove_vectors))"
   ]
  },
  {
   "cell_type": "code",
   "execution_count": 30,
   "id": "491964c4-66fb-4a0b-8ba5-4ce64df00ae0",
   "metadata": {},
   "outputs": [
    {
     "name": "stdout",
     "output_type": "stream",
     "text": [
      "0.7860307028214608\n",
      "0.8319752556243112\n"
     ]
    }
   ],
   "source": [
    "print(compute_average_distance(female, \"baby\" , glove_vectors))\n",
    "print(compute_average_distance(male, \"baby\" , glove_vectors))"
   ]
  },
  {
   "cell_type": "code",
   "execution_count": 39,
   "id": "e4a4db31-cef3-49cb-82d6-acf0fb27db96",
   "metadata": {},
   "outputs": [
    {
     "name": "stdout",
     "output_type": "stream",
     "text": [
      "0.7610475418217224\n",
      "0.8070285897044759\n"
     ]
    }
   ],
   "source": [
    "print(compute_average_distance(female, \"pretty\" , glove_vectors))\n",
    "print(compute_average_distance(male, \"pretty\" , glove_vectors))"
   ]
  },
  {
   "cell_type": "code",
   "execution_count": 40,
   "id": "760a3b8a-5d7f-462c-9a32-c7faaafde418",
   "metadata": {},
   "outputs": [
    {
     "name": "stdout",
     "output_type": "stream",
     "text": [
      "0.7472878959950222\n",
      "0.7761614034862541\n"
     ]
    }
   ],
   "source": [
    "print(compute_average_distance(female, \"love\" , glove_vectors))\n",
    "print(compute_average_distance(male, \"love\" , glove_vectors))"
   ]
  },
  {
   "cell_type": "code",
   "execution_count": 44,
   "id": "18f1fe2d-f449-453f-a466-70488bcabf06",
   "metadata": {},
   "outputs": [
    {
     "name": "stdout",
     "output_type": "stream",
     "text": [
      "0.8704367872561857\n",
      "0.8594025454232637\n"
     ]
    }
   ],
   "source": [
    "print(compute_average_distance(female, \"violence\" , glove_vectors))\n",
    "print(compute_average_distance(male, \"violence\" , glove_vectors))"
   ]
  },
  {
   "cell_type": "code",
   "execution_count": 21,
   "id": "78e1d0d3-009e-490b-b832-9081e3921b0f",
   "metadata": {},
   "outputs": [],
   "source": [
    "from scipy.spatial.distance import cosine\n",
    "\n",
    "def compute_average_distance_to_cluster(word, cluster_words, embeddings):\n",
    "    \"\"\"Compute the average distance of a word to all words in a cluster.\"\"\"\n",
    "    if word not in embeddings:\n",
    "        return None\n",
    "\n",
    "    total_distance = 0\n",
    "    valid_word_count = 0\n",
    "\n",
    "    for cluster_word in cluster_words:\n",
    "        if cluster_word in embeddings:\n",
    "            sim = 1 - cosine(embeddings[word], embeddings[cluster_word])\n",
    "            distance = 1 - sim  # Cosine distance = 1 - similarity\n",
    "            total_distance += distance\n",
    "            valid_word_count += 1\n",
    "        else:\n",
    "            print(f\"Cluster word '{cluster_word}' not found in embeddings.\")\n",
    "\n",
    "    if valid_word_count == 0:\n",
    "        return None\n",
    "\n",
    "    return total_distance / valid_word_count\n",
    "\n",
    "def find_central_word(cluster_words, embeddings, search_in_vocab=False):\n",
    "    \"\"\"Find the word that is closest to all words in the cluster.\"\"\"\n",
    "    central_word = None\n",
    "    min_avg_distance = float('inf')\n",
    "\n",
    "    # If search_in_vocab is True, search the entire vocabulary for the central word\n",
    "    if search_in_vocab:\n",
    "        search_words = embeddings.keys()\n",
    "    else:\n",
    "        search_words = cluster_words\n",
    "\n",
    "    for word in search_words:\n",
    "        avg_distance = compute_average_distance_to_cluster(word, cluster_words, embeddings)\n",
    "        if avg_distance is not None and avg_distance < min_avg_distance:\n",
    "            min_avg_distance = avg_distance\n",
    "            central_word = word\n",
    "\n",
    "    return central_word, min_avg_distance"
   ]
  },
  {
   "cell_type": "code",
   "execution_count": 35,
   "id": "c61b5570-f74e-46ab-aa34-d1b905bbd08a",
   "metadata": {},
   "outputs": [
    {
     "name": "stdout",
     "output_type": "stream",
     "text": [
      "Central word (within female list): done, Average distance: 0.7400832127994309\n",
      "Central word (in entire vocabulary): n't, Average distance: 0.6911780058018797\n"
     ]
    }
   ],
   "source": [
    "# Find the central word within the female list\n",
    "central_word, avg_distance = find_central_word(female, glove_vectors, search_in_vocab=False)\n",
    "print(f\"Central word (within female list): {central_word}, Average distance: {avg_distance}\")\n",
    "\n",
    "# Find the central word in the entire vocabulary\n",
    "central_word, avg_distance = find_central_word(female, glove_vectors, search_in_vocab=True)\n",
    "print(f\"Central word (in entire vocabulary): {central_word}, Average distance: {avg_distance}\")\n"
   ]
  },
  {
   "cell_type": "code",
   "execution_count": 36,
   "id": "fb3811b8-ec27-45bc-9c83-a3d4a9d0b227",
   "metadata": {},
   "outputs": [
    {
     "name": "stdout",
     "output_type": "stream",
     "text": [
      "Central word (within female list): later, Average distance: 0.7181909478531953\n",
      "Central word (in entire vocabulary): but, Average distance: 0.6918507222120284\n"
     ]
    }
   ],
   "source": [
    "# Find the central word within the female list\n",
    "central_word, avg_distance = find_central_word(male, glove_vectors, search_in_vocab=False)\n",
    "print(f\"Central word (within female list): {central_word}, Average distance: {avg_distance}\")\n",
    "\n",
    "# Find the central word in the entire vocabulary\n",
    "central_word, avg_distance = find_central_word(male, glove_vectors, search_in_vocab=True)\n",
    "print(f\"Central word (in entire vocabulary): {central_word}, Average distance: {avg_distance}\")\n"
   ]
  },
  {
   "cell_type": "code",
   "execution_count": null,
   "id": "c10cce9a-6b1d-446d-95e4-0382e4389131",
   "metadata": {},
   "outputs": [],
   "source": []
  }
 ],
 "metadata": {
  "kernelspec": {
   "display_name": "Python 3 (ipykernel)",
   "language": "python",
   "name": "python3"
  },
  "language_info": {
   "codemirror_mode": {
    "name": "ipython",
    "version": 3
   },
   "file_extension": ".py",
   "mimetype": "text/x-python",
   "name": "python",
   "nbconvert_exporter": "python",
   "pygments_lexer": "ipython3",
   "version": "3.11.9"
  }
 },
 "nbformat": 4,
 "nbformat_minor": 5
}
